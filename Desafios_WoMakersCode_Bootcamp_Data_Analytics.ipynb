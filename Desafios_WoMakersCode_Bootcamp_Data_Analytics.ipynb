{
  "nbformat": 4,
  "nbformat_minor": 0,
  "metadata": {
    "colab": {
      "provenance": []
    },
    "kernelspec": {
      "name": "python3",
      "display_name": "Python 3"
    },
    "language_info": {
      "name": "python"
    }
  },
  "cells": [
    {
      "cell_type": "markdown",
      "source": [
        "DESAFIO 1\n",
        "\n",
        "Crie um programa que solicita ao usuário que insira três notas (valores de 0 a 10) e, em seguida, calcule e exiba a média dessas notas.\n",
        "\n",
        "Além disso, informe ao usuário se ele foi aprovado ou reprovado com base na média das notas, considerando a média mínima de aprovação como 6."
      ],
      "metadata": {
        "id": "sdBUCCdzeef3"
      }
    },
    {
      "cell_type": "code",
      "source": [
        "notas : list = []\n",
        "qtde_notas : int = 3\n",
        "\n",
        "notas = []\n",
        "while len(notas) < qtde_notas:\n",
        "    try:\n",
        "        nota = float(input(\"Insira uma nota entre 0 a 10: \"))\n",
        "        if nota < 0 or nota > 10:\n",
        "            print(\"Valor inválido. Insira uma nota entre 0 a 10.\")\n",
        "        else:\n",
        "            notas.append(nota)\n",
        "    except ValueError:\n",
        "        print(\"Valor inválido. Insira uma nota entre 0 a 10.\")\n",
        "\n",
        "def calculo_resultado(vetor_notas) -> str:\n",
        "    media = sum(vetor_notas)/len(vetor_notas)\n",
        "    if media > 6:\n",
        "        return f\"A média das notas foi {media:.2f}. Você foi Aprovado!\"\n",
        "    else:\n",
        "        return f\"A média das notas foi {media:.2f}. Você foi Reprovado!\"\n",
        "\n",
        "resultado = calculo_resultado(notas)\n",
        "print(resultado)"
      ],
      "metadata": {
        "id": "j16D0tJ4evJ-"
      },
      "execution_count": null,
      "outputs": []
    },
    {
      "cell_type": "markdown",
      "source": [
        "DESAFIO 2\n",
        "\n",
        "Crie um programa que solicita ao usuário que insira um número inteiro e, em seguida, verifica se o número é par ou ímpar.\n",
        "\n",
        "O programa deve exibir uma mensagem indicando se o número é par ou ímpar."
      ],
      "metadata": {
        "id": "ClKDF5t4gEyu"
      }
    },
    {
      "cell_type": "code",
      "source": [
        "def verifica_num(numero) -> str:\n",
        "    if numero % 2 == 0:\n",
        "        return \"par\"\n",
        "    else:\n",
        "        return \"ímpar\"\n",
        "\n",
        "while True:\n",
        "    try:\n",
        "        num_int = int(input(\"Insira um número inteiro: \"))\n",
        "        break\n",
        "    except ValueError:\n",
        "        print(\"Valor inválido. Insira um valor inteiro.\")\n",
        "\n",
        "verificacao = verifica_num(num_int)\n",
        "print(f\"O número inserido é {verificacao}\")"
      ],
      "metadata": {
        "id": "GWkFk92kfuiO"
      },
      "execution_count": null,
      "outputs": []
    },
    {
      "cell_type": "markdown",
      "source": [
        "DESAFIO 3\n",
        "\n",
        "Crie um programa que verifica se uma palavra fornecida pelo usuário é um palíndromo ou não.\n",
        "\n",
        "(Um palíndromo é uma palavra que é lida da mesma forma tanto da esquerda para a direita quanto da direita para a esquerda.)"
      ],
      "metadata": {
        "id": "MmsZIAj-e0NX"
      }
    },
    {
      "cell_type": "code",
      "source": [
        "def verificar_palindromo(palavra) -> str:\n",
        "    palavra = palavra.lower()\n",
        "    palavra_contrario = palavra[::-1]\n",
        "    if palavra == palavra_contrario:\n",
        "        return f\"A palavra escolhida é um palindromo! {palavra} e {palavra_contrario} são iguais!\"\n",
        "    else:\n",
        "        return f\"A palavra escolhida não é um palindromo! {palavra} e {palavra_contrario} não são iguais!\"\n",
        "\n",
        "while True:\n",
        "    palavra = input(\"Insira uma palavra: \")\n",
        "    if palavra.isalpha():\n",
        "        break\n",
        "    else:\n",
        "        print(\"Entrada inválida, insira uma palavra!\")\n",
        "\n",
        "resultado = verificar_palindromo(palavra)\n",
        "print(resultado)"
      ],
      "metadata": {
        "id": "PobFqQqafLNj"
      },
      "execution_count": null,
      "outputs": []
    },
    {
      "cell_type": "markdown",
      "source": [
        "DESAFIO 4\n",
        "\n",
        "Crie um programa que solicita ao usuário que insira um número inteiro positivo e, em seguida, calcula e exibe o fatorial desse número.\n",
        "\n",
        "(O fatorial de um número é o produto de todos os números inteiros positivos de 1 até o próprio número.)"
      ],
      "metadata": {
        "id": "9WPRqUfIgLQK"
      }
    },
    {
      "cell_type": "code",
      "source": [
        "def fatorial(numero) -> int:\n",
        "    resultado : int = 1\n",
        "    for i in range(numero, 0, -1):\n",
        "        resultado *= i\n",
        "    return resultado\n",
        "\n",
        "while True:\n",
        "    try:\n",
        "        num_int = int(input(\"Insira um número inteiro positivo: \"))\n",
        "        if num_int < 0:\n",
        "            print(\"Valor inválido. Insira um valor positivo\")\n",
        "        else:\n",
        "            break\n",
        "    except ValueError:\n",
        "        print(\"Valor inválido. Insira um valor inteiro.\")\n",
        "\n",
        "\n",
        "valor = fatorial(num_int)\n",
        "print(f\"O fatorial do número {num_int} é {valor}\")"
      ],
      "metadata": {
        "id": "B3VE36bRgJWu"
      },
      "execution_count": null,
      "outputs": []
    },
    {
      "cell_type": "markdown",
      "source": [
        "DESAFIO 5\n",
        "\n",
        "Crie um programa que permita ao usuário gerenciar suas tarefas diárias. O programa deve oferecer as seguintes funcionalidades:\n",
        "\n",
        "*   Adicionar uma nova tarefa;\n",
        "*   Visualizar todas as tarefas;\n",
        "*   Marcar uma tarefa como concluída;\n",
        "*   Remover uma tarefa;\n",
        "*   Sair do programa.\n",
        "\n",
        "(Você pode implementar essas funcionalidades usando listas para armazenar as tarefas e estruturas de controle como loops e condicionais para interagir com o usuário.)"
      ],
      "metadata": {
        "id": "dLmeFEi2fO9f"
      }
    },
    {
      "cell_type": "code",
      "source": [
        "import time\n",
        "\n",
        "tarefas : list = []\n",
        "\n",
        "class Tarefa:\n",
        "    is_complete = False\n",
        "    nome = \"\"\n",
        "\n",
        "    def __init__(self, c, n):\n",
        "        self.is_complete = c\n",
        "        self.nome = n\n",
        "\n",
        "    def get_nome(self):\n",
        "        if self.is_complete == True:\n",
        "            prefixo = \"X\"\n",
        "        else:\n",
        "            prefixo = \"_\"\n",
        "        return f\"{prefixo} - {self.nome}\"\n",
        "\n",
        "    def set_concluido(self, flag):\n",
        "        self.is_complete = flag\n",
        "\n",
        "while True:\n",
        "    try:\n",
        "        acao = int(input(\n",
        "            \"Selecione a atividade que deseja realizar: \\n\"\n",
        "            \"1 - Adicionar uma nova tarefa \\n\"\n",
        "            \"2 - Visualizar todas as tarefas \\n\"\n",
        "            \"3 - Marcar uma tarefa como concluída \\n\"\n",
        "            \"4 - Remover uma tarefa \\n\"\n",
        "            \"5 - Sair \\n\"))\n",
        "    except ValueError:\n",
        "        print(\"Valor inválido. Insira um valor numérico.\")\n",
        "        continue\n",
        "\n",
        "    if acao < 1 or acao > 5:\n",
        "        print(\"Ação inválida!\")\n",
        "    elif acao == 5:\n",
        "        print(\"Atividade encerrada.\")\n",
        "        break\n",
        "\n",
        "    match acao:\n",
        "        case 1:\n",
        "            nome_tarefa = input(\"Insira o nome da tarefa que deseja adicionar: \")\n",
        "            tarefas.append(Tarefa(False, nome_tarefa))\n",
        "            print(f\"Você adicionou a tarefa '{tarefas[-1].get_nome()}'.\")\n",
        "            time.sleep(1.5)\n",
        "        case 2:\n",
        "            if len(tarefas) >= 1:\n",
        "                print(\"Suas tarefas atuais são: \")\n",
        "                for tarefa in tarefas:\n",
        "                    print(tarefa.get_nome())\n",
        "                print(\"Tarefas marcadas com X estão concluídas.\")\n",
        "                time.sleep(10)\n",
        "            else:\n",
        "                print(\"Sua lista de tarefas está vazia. Escolha a opção 1 para adicionar uma nova tarefa.\")\n",
        "                time.sleep(1.5)\n",
        "        case 3:\n",
        "            if len(tarefas) >= 1:\n",
        "                print(\"Suas tarefas atuais são: \")\n",
        "                for i, tarefa in enumerate(tarefas):\n",
        "                    print(i, tarefa.get_nome())\n",
        "                idx = int(input(\"Selecione o índice da tarefa que deseja marcar como concluida: \"))\n",
        "                if tarefas[idx].is_complete:\n",
        "                    print(f\"A tarefa atual já está marcada como concluída: '{tarefas[idx].get_nome()}'. \")\n",
        "                    time.sleep(3)\n",
        "                else:\n",
        "                    tarefas[idx].set_concluido(True)\n",
        "                    print(f\"Tarefa marcada como concluída: '{tarefas[idx].get_nome()}'.\")\n",
        "                time.sleep(3)\n",
        "            else:\n",
        "                print(\"Sua lista de tarefas está vazia. Escolha a opção 1 para adicionar uma nova tarefa.\")\n",
        "                time.sleep(1.5)\n",
        "        case 4:\n",
        "            print(\"Suas tarefas atuais são: \")\n",
        "            for i, tarefa in enumerate(tarefas):\n",
        "                print(i, tarefa.get_nome())\n",
        "            idx = int(input(\"Escolha uma tarefa para remover: \"))\n",
        "            aux = tarefas[idx]\n",
        "            del tarefas[idx]\n",
        "            print(f\"Tarefa '{aux.get_nome()}' removida\")\n",
        "            time.sleep(2)\n"
      ],
      "metadata": {
        "id": "8oExqSgagGzn"
      },
      "execution_count": null,
      "outputs": []
    }
  ]
}